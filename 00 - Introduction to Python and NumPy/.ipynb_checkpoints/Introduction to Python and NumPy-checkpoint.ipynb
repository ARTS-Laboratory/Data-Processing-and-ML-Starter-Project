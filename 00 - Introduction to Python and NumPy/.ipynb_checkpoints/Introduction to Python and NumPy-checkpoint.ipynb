{
 "cells": [
  {
   "cell_type": "markdown",
   "id": "3a1d21ce",
   "metadata": {},
   "source": [
    "<center>\n",
    "    \n",
    "    Introduction to Python and NumPy\n",
    "    \n",
    "    Author: Daniel Coble\n",
    "</center>"
   ]
  },
  {
   "cell_type": "markdown",
   "id": "0a8d215a",
   "metadata": {},
   "source": [
    "This first notebook is intended for those who don't have experience either in programming in general or Python specifically. Python is a great language for scientific programming because it's easy to quickly throw together workable code. It also has a huge number of libraries to do basically anything in the realm of scientific computing or data processing. In this first notebook, we'll go over the basics of Python and also gain some familiarity with the library we'll be using the most in in these notebooks -- NumPy.\n",
    "\n",
    "Let's first gain some familiarity with pure python."
   ]
  },
  {
   "cell_type": "code",
   "execution_count": 2,
   "id": "68b8dc8c",
   "metadata": {},
   "outputs": [
    {
     "name": "stdout",
     "output_type": "stream",
     "text": [
      "5\n",
      "3.14\n",
      "False\n",
      "Hello world!\n"
     ]
    }
   ],
   "source": [
    "# the hash symbol makes a comment\n",
    "'''\n",
    "This is a multiline comment\n",
    "'''\n",
    "\n",
    "'''\n",
    "Let's look at the basic datatypes of python. These are:\n",
    "  * integers\n",
    "  * floats\n",
    "  * booleans\n",
    "  * strings\n",
    "'''\n",
    "my_integer = 5\n",
    "my_float = 3.14\n",
    "my_boolean = False\n",
    "my_string = \"Hello world!\"\n",
    "\n",
    "'''\n",
    "the print function prints to consol. It's useful for troubleshooting. Any type can be printed.\n",
    "'''\n",
    "print(my_integer)\n",
    "print(my_float)\n",
    "print(my_boolean)\n",
    "print(my_string)"
   ]
  },
  {
   "cell_type": "code",
   "execution_count": 3,
   "id": "4e86a991",
   "metadata": {},
   "outputs": [
    {
     "name": "stdout",
     "output_type": "stream",
     "text": [
      "8.14\n",
      "15.700000000000001\n",
      "3\n",
      "1\n",
      "152 is 21 times 7 plus 5\n"
     ]
    }
   ],
   "source": [
    "'''\n",
    "Integers and floats are different types, but they play nice with each other when doing arithmetic.\n",
    "'''\n",
    "print(my_integer + my_float) # the sum of an integer and a float will be a float\n",
    "print(my_integer * my_float) # same with multiplication and division\n",
    "# the // operator is for integer division (division without remainder)\n",
    "print(7//2)\n",
    "# the % (modulo) operator is the remainder after division\n",
    "print(7%2)\n",
    "\n",
    "print(152, 'is', 152//7, 'times 7 plus', 152%7)"
   ]
  },
  {
   "cell_type": "code",
   "execution_count": 15,
   "id": "3732c806",
   "metadata": {},
   "outputs": [
    {
     "name": "stdout",
     "output_type": "stream",
     "text": [
      "string\n",
      "Hello world!\n",
      "Hello world!\n",
      "[0, 4, 1, 2, 5]\n",
      "two\n",
      "1\n",
      "2\n",
      "3\n",
      "4\n"
     ]
    }
   ],
   "source": [
    "'''\n",
    "There's a few ways to combine the basic types into more complicated structures. Let's look at lists, tuples, and dictionaries.\n",
    "\n",
    "A list is an ordered collection of elements. Unlike other languages, Python lets you put items of any kind together in a list.\n",
    "'''\n",
    "my_number_list = [0, 4, 1, 2]\n",
    "my_items = ['string', 0, 17.0, True]\n",
    "# you can even put a list inside another list\n",
    "my_items_2 = ['string', 1, 17.0, True, ['Hello world!', 1]]\n",
    "\n",
    "# items in a list are retrieved with by indexing with square brackets. (Python is zero-indexed)\n",
    "print(my_items[0])\n",
    "# And of course to get to elements of a list inside a list you have to index twice.\n",
    "print(my_items_2[4][0])\n",
    "# What's going on here?\n",
    "print(my_items_2[my_number_list[my_number_list[2]]][my_number_list[my_items[1]]])\n",
    "\n",
    "# You can add items to a list with the .append() method.\n",
    "my_number_list.append(5)\n",
    "print(my_number_list) # you can print entire lists.\n",
    "\n",
    "'''\n",
    "A tuple is like a list except it's immutable (you can't change it or any of the elements in it). So it's strictly more\n",
    "restrictive than a list, but it's useful to communicate that the variable you are creating is a constant that won't be\n",
    "changed later. Tuples are created with () and just like lists, elements are indexed with []\n",
    "'''\n",
    "my_tuple = ('one', 'two', 'three')\n",
    "print(my_tuple[1])\n",
    "\n",
    "'''\n",
    "Dictionaries let you chose any item to index with. The item that is indexed with is called the key and what is retreived\n",
    "is called the value. Keys and values can be anything, but it's most common to have keys be either strings or integers.\n",
    "\n",
    "Dictionaries can be initialized with curly braces.\n",
    "'''\n",
    "\n",
    "my_dict = {\n",
    "    'key1': 1,\n",
    "    'key2': 2,\n",
    "    'key3': 3,\n",
    "}\n",
    "\n",
    "print(my_dict['key1'])\n",
    "print(my_dict['key2'])\n",
    "print(my_dict['key3'])\n",
    "\n",
    "# New items can be added to a dictionary by calling a new key and assigning a value\n",
    "my_dict['key4'] = 4\n",
    "print(my_dict['key4'])"
   ]
  },
  {
   "cell_type": "code",
   "execution_count": 16,
   "id": "0ddf5755",
   "metadata": {},
   "outputs": [
    {
     "name": "stdout",
     "output_type": "stream",
     "text": [
      "12\n",
      "7\n",
      "43\n",
      "72\n"
     ]
    }
   ],
   "source": [
    "'''\n",
    "Simplistically, a function is a segment of code that you can call repeatedly. You interact with a function by providing it\n",
    "arguments (inputs) and getting its output. Below I build some simple functions that act on numbers (integers or floats), but\n",
    "remember that a function can take or return any type of variable.\n",
    "'''\n",
    "def mult_by_three(x):\n",
    "    y = 3*x\n",
    "    return y\n",
    "\n",
    "def add_three(x):\n",
    "    x = x + 1\n",
    "    x += 1 # simplified notation for the above line\n",
    "    return x + 1\n",
    "\n",
    "def some_polynomial(x):\n",
    "    return 3*x**2 - 3*x + 7 # ** is how exponentiation is indicated in python\n",
    "\n",
    "print(mult_by_three(4))\n",
    "print(add_three(4))\n",
    "print(some_polynomial(4))\n",
    "print(mult_by_three(add_three(mult_by_three(add_three(4)))))"
   ]
  },
  {
   "cell_type": "code",
   "execution_count": 25,
   "id": "cd21eb98",
   "metadata": {},
   "outputs": [
    {
     "name": "stdout",
     "output_type": "stream",
     "text": [
      "four is less than five\n",
      "x is between four and six\n",
      "4\n"
     ]
    }
   ],
   "source": [
    "'''\n",
    "Just like in any language, we use while loops, for loops, and if statements to control logic in Python. An if statement runs\n",
    "a section of code only if a boolean expression evaluates to True.\n",
    "'''\n",
    "if(4 < 5):\n",
    "    print('four is less than five')\n",
    "\n",
    "if(4 == 5):\n",
    "    print('I think I broke math.')\n",
    "\n",
    "'''\n",
    "An if statement can also be followed by an else, which will run if the boolean expression was false, and also elif, which\n",
    "will run if the first boolean was False, and another one is True.\n",
    "'''\n",
    "x = 5\n",
    "if(x < 4):\n",
    "    print('x is less than four')\n",
    "elif(x < 6):\n",
    "    print('x is between four and six')\n",
    "else:\n",
    "    print('x is greater than or equal to six')\n",
    "\n",
    "# try to track the value of x and see if you can get it right.\n",
    "x = 3\n",
    "if(x < 4):\n",
    "    x += 5\n",
    "    if(x > 6):\n",
    "        x -= 2\n",
    "    if(x < 4):\n",
    "        x += 2\n",
    "    elif(x < 7):\n",
    "        x -= 2\n",
    "    elif(x < 5):\n",
    "        x -= 2\n",
    "    else:\n",
    "        x += 5\n",
    "print(x)"
   ]
  },
  {
   "cell_type": "code",
   "execution_count": 26,
   "id": "61e0a08d",
   "metadata": {},
   "outputs": [
    {
     "name": "stdout",
     "output_type": "stream",
     "text": [
      "50\n",
      "100\n",
      "4\n",
      "48\n",
      "294\n",
      "50\n"
     ]
    }
   ],
   "source": [
    "'''\n",
    "While loops repeat a section of code while a boolean condition is satisfied. You have to be careful when writing while loops\n",
    "because it's possible to accidentally make a loop that never ends. \n",
    "'''\n",
    "n = 100\n",
    "while(n > 50):\n",
    "    n -= 1\n",
    "print(n)\n",
    "\n",
    "# This is an example of an infinite loop.\n",
    "# n = 100\n",
    "# while(n > 50):\n",
    "#     n += 1\n",
    "# print(n)\n",
    "\n",
    "'''\n",
    "For loops in Python work differently than in other languages. They are really 'for-each' loops that go through each element\n",
    "of the list. A standard use of the for loop is with the range() function, which will make the code in the loop run a specified\n",
    "number of times\n",
    "'''\n",
    "# an example with the 'for-each' usage\n",
    "my_list = [4, 1, 3, 6]\n",
    "for element in my_list:\n",
    "    x = element + 1\n",
    "    x *= element\n",
    "    x += x*element\n",
    "    print(x)\n",
    "\n",
    "# an example with the range() function\n",
    "n = 0\n",
    "for i in range(50):\n",
    "    n += 1\n",
    "print(n)"
   ]
  },
  {
   "cell_type": "markdown",
   "id": "23649fc6",
   "metadata": {},
   "source": [
    "Let's use pure python to do some actual computing. Below is an implementation of the sieve of Eratosthenes, an algorithm\n",
    "which is used to find all prime numbers less than a certain number N. It works first considering all numbers less than N.\n",
    "We start with 2, mark 2 and prime then strike out all multiples of 2. From there, we continue to 3 and strike out its multiples.\n",
    "We continue by striking out the multiples of any number which has not already been struck out. In the end, only prime numbers\n",
    "will remain.\\\n",
    "[Sieve of Eratosthenes, Wikipedia](https://en.wikipedia.org/wiki/Sieve_of_Eratosthenes)\\\n",
    "[Sieve of Eratosthenes, Khan Academy](https://www.youtube.com/watch?v=klcIklsWzrY)"
   ]
  },
  {
   "cell_type": "code",
   "execution_count": 24,
   "id": "0071466c",
   "metadata": {},
   "outputs": [
    {
     "name": "stdout",
     "output_type": "stream",
     "text": [
      "The primes less than 100 are:\n",
      "2\n",
      "3\n",
      "5\n",
      "7\n",
      "11\n",
      "13\n",
      "17\n",
      "19\n",
      "23\n",
      "29\n",
      "31\n",
      "37\n",
      "41\n",
      "43\n",
      "47\n",
      "53\n",
      "59\n",
      "61\n",
      "67\n",
      "71\n",
      "73\n",
      "79\n",
      "83\n",
      "89\n",
      "97\n"
     ]
    }
   ],
   "source": [
    "N = 100\n",
    "sieve = [True]*N # this is one of the many 'shortcuts' in Python and creates a list with 100 True elements.\n",
    "sieve[0] = False # we have to state that 0 and 1 aren't prime.\n",
    "sieve[1] = False \n",
    "for i in range(N):\n",
    "    if(sieve[i]): # or, if sieve[i] is True\n",
    "        j = 2*i\n",
    "        while(j < N):\n",
    "            sieve[j] = False\n",
    "            j += i\n",
    "\n",
    "print('The primes less than 100 are:')\n",
    "for i in range(2, N):\n",
    "    if(sieve[i]):\n",
    "        print(i)"
   ]
  },
  {
   "cell_type": "markdown",
   "id": "3a660222",
   "metadata": {},
   "source": [
    "Of course, there's a whole lot more to learn about Python. Here's a short list of some things that you might encounter in an\n",
    "introductory course in Python:\n",
    "* list comprehension\n",
    "* classes\n",
    "* recursion\n",
    "* lambda functions\n",
    "\n",
    "There are plenty of sources online that could help you learn about any one of those topics. If you are a Python (or programming) novice, as you go through the notebooks, you'll see progressively more complicated codes. By disecting how they work, you'll get more experience and learn how to build code of your own.\n",
    "\n",
    "Now let's get into working with Numpy. Numpy is a library used for storing and manipulating arrays of data."
   ]
  },
  {
   "cell_type": "code",
   "execution_count": 2,
   "id": "e5a17292",
   "metadata": {},
   "outputs": [
    {
     "name": "stdout",
     "output_type": "stream",
     "text": [
      "0\n",
      "[0 1]\n",
      "[2 3 4]\n",
      "[0 1 2 3 4]\n"
     ]
    }
   ],
   "source": [
    "import numpy as np # import the numpy package\n",
    "\n",
    "# Let's first look at one dimensional arrays.\n",
    "x = np.array([0, 1, 2, 3, 4]) # you can make an array by passing a list to the np.array function.\n",
    "# in this form, the numpy array works a lot like a list of numbers. we can index from it the normal way\n",
    "zero = x[0]\n",
    "print(zero)\n",
    "# you can index by slices to get a subset of the array\n",
    "x1 = x[:2] # a number then a colon produces all elements before the index (exclusive)\n",
    "print(x1)\n",
    "x2 = x[2:] # a number then a colon produces all elements after the index (inclusive)\n",
    "print(x2)\n",
    "# the numpy .append() concatenates two arrays together. \n",
    "xt = np.append(x1, x2)\n",
    "print(xt)"
   ]
  },
  {
   "cell_type": "code",
   "execution_count": null,
   "id": "9d15192a",
   "metadata": {},
   "outputs": [],
   "source": [
    "# you can do arithmetic. when adding or multiplying by a constant, the operation happens to each element\n",
    "y = x + 3\n",
    "print(y)\n",
    "# when doing arithmetic between arrays, the two arrays must have the same shape, and the operation is elementwise\n",
    "z = np.array([3, 2, 5, 4, 1])\n",
    "w = x + z\n",
    "print(w)"
   ]
  },
  {
   "cell_type": "code",
   "execution_count": 3,
   "id": "d4f36a04",
   "metadata": {},
   "outputs": [
    {
     "name": "stdout",
     "output_type": "stream",
     "text": [
      "[0. 0. 0. 0. 0. 0. 0. 0. 0. 0.]\n",
      "[1. 1. 1. 1. 1. 1. 1. 1. 1. 1.]\n",
      "[0 1 2 3 4 5 6 7 8 9]\n",
      "[15.         15.55555556 16.11111111 16.66666667 17.22222222 17.77777778\n",
      " 18.33333333 18.88888889 19.44444444 20.        ]\n"
     ]
    }
   ],
   "source": [
    "# let's look at four functions which can be used to produce arrays\n",
    "\n",
    "# the zeros function produces an array of all zeros of the specified shape\n",
    "zz = np.zeros([10])\n",
    "print(zz)\n",
    "# similarly, the ones function produces all ones\n",
    "oo = np.ones([10])\n",
    "print(oo)\n",
    "# the arange function produces an array from zero to the given value\n",
    "rr = np.arange(10)\n",
    "print(rr)\n",
    "# the linspace function is similar, it produces a 'num' amount of elements spaced equally between the start and stop values\n",
    "ll = np.linspace(15, 20, num=10)\n",
    "print(ll)"
   ]
  },
  {
   "cell_type": "code",
   "execution_count": 5,
   "id": "f5a0fcbf",
   "metadata": {},
   "outputs": [
    {
     "name": "stdout",
     "output_type": "stream",
     "text": [
      "4\n",
      "[2 4]\n",
      "[3 4]\n",
      "(2, 2)\n",
      "[[3. 4.]\n",
      " [5. 6.]]\n"
     ]
    }
   ],
   "source": [
    "# arrays can be two-dimensional, or even higher-dimensional.\n",
    "arr2d = np.array([[1, 2], [3,4]])\n",
    "# when indexing an array, separate the index for each array by a comma\n",
    "print(arr2d[1,1])\n",
    "# and we can get slices along each dimension\n",
    "print(arr2d[:,1]) # the sole colon means all elements along that dimension\n",
    "print(arr2d[1,:])\n",
    "print(arr2d.shape) # the shape attribute gets the shape of the array\n",
    "ones2d = np.ones(arr2d.shape)\n",
    "# the rules for arithmetic apply exactly as before\n",
    "arr2d = (arr2d + ones2d) + 1\n",
    "print(arr2d)"
   ]
  },
  {
   "cell_type": "code",
   "execution_count": 10,
   "id": "77bcf655",
   "metadata": {},
   "outputs": [
    {
     "name": "stdout",
     "output_type": "stream",
     "text": [
      "[0 0 0]\n",
      "[10.1010101  10.3030303  10.50505051 10.70707071 10.90909091 11.11111111\n",
      " 11.31313131 11.51515152 11.71717172 11.91919192 12.12121212 12.32323232\n",
      " 12.52525253 12.72727273 12.92929293 13.13131313 13.33333333 13.53535354\n",
      " 13.73737374 13.93939394 14.14141414 14.34343434 14.54545455 14.74747475\n",
      " 14.94949495]\n"
     ]
    }
   ],
   "source": [
    "# you can use a boolean comparison to create an array of booleans\n",
    "arr = np.array([0, 1, 1, 0, 0, 1])\n",
    "bool_arr = (arr == 0)\n",
    "'''\n",
    "a cool feature is using boolean indexing. this creates an array only containing the elements with a true index \n",
    "in the boolean array\n",
    "'''\n",
    "print(arr[bool_arr])\n",
    "# what does this code do?\n",
    "arr = np.linspace(0, 20, num=100)\n",
    "arr2 = arr[(arr > 10) * (arr < 15)]\n",
    "print(arr2)"
   ]
  },
  {
   "cell_type": "markdown",
   "id": "14b652d4",
   "metadata": {},
   "source": [
    "To end this notebook, Now lets load the libraries that will be used in the rest of the notebooks. If all of these import successfully, then you should have no issues working with the rest of the notebooks."
   ]
  },
  {
   "cell_type": "code",
   "execution_count": null,
   "id": "f3101287",
   "metadata": {},
   "outputs": [],
   "source": [
    "import scipy\n",
    "import matplotlib.pyplot as plt\n",
    "from tensorflow import keras"
   ]
  },
  {
   "cell_type": "markdown",
   "id": "a7de07ee",
   "metadata": {},
   "source": [
    "**Challenge Problems**\n",
    "\n",
    "1. Create a numpy array with all integers between 0 and 10 and between 20 and 30. For each element $x$ in this array, calculate $3x^2 + 4x + 5$ and print this value to the screen.\n",
    "2. Print to console all integers between 0 and 100 that:\n",
    "* are even, \n",
    "* aren't divisible by 5,\n",
    "* aren't one more than a multiple of seven, and\n",
    "* are not between 33 and 38.\n",
    "\n",
    "3. From array B, make a new array by removing all elements whose last digit is a 3."
   ]
  },
  {
   "cell_type": "code",
   "execution_count": null,
   "id": "2751bd50",
   "metadata": {},
   "outputs": [],
   "source": [
    "B = np.array([1, 13, 3, 4, 17, 33, 16])"
   ]
  }
 ],
 "metadata": {
  "kernelspec": {
   "display_name": "Python 3 (ipykernel)",
   "language": "python",
   "name": "python3"
  },
  "language_info": {
   "codemirror_mode": {
    "name": "ipython",
    "version": 3
   },
   "file_extension": ".py",
   "mimetype": "text/x-python",
   "name": "python",
   "nbconvert_exporter": "python",
   "pygments_lexer": "ipython3",
   "version": "3.10.12"
  }
 },
 "nbformat": 4,
 "nbformat_minor": 5
}
