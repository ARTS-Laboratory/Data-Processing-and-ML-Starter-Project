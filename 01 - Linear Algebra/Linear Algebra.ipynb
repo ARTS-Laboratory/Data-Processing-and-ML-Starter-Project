{
 "cells": [
  {
   "cell_type": "markdown",
   "id": "037c4c76",
   "metadata": {},
   "source": [
    "<center>\n",
    "    \n",
    "    The basics of linear algebra\n",
    "    \n",
    "    Author: Daniel Coble\n",
    "</center>"
   ]
  },
  {
   "cell_type": "markdown",
   "id": "f9b81f83",
   "metadata": {},
   "source": [
    "Linear algebra is the study of vectors and matrices. (Formally, it's the study of vector spaces and linear tranformations). A solid understanding of linear algebra is necessary for everything else in the starter project (and the rest of your research career). Sadly, the only way to know something is to study it. I've provided a few resources below that I think are good sources. Be sure you have a firm understanding of:\n",
    "1. The definition of a matrix and vector.\n",
    "2. Matrix-vector and matrix-matrix multiplication.\n",
    "3. The principle of linearity.\n",
    "4. Solving Ax=b.\n",
    "5. Matrix inverses.\n",
    "\n",
    "[MIT OpenCourseWare](https://www.youtube.com/playlist?list=PLE7DDD91010BC51F8). Gil Strang's lecture series is a classic. Relevant material: lectures 1-10.\n",
    "\n",
    "[3Blue1Brown Essence of Linear Algebra](https://www.youtube.com/playlist?list=PLZHQObOWTQDPD3MizzM2xVFitgF8hE_ab) 3Blue1Brown's videos emphasize developing a visual, intuitive understanding of linear algebra. Relevant material: Chapters 1-5, 7, 8, 13.\n",
    "\n",
    "[Prof. Matthew Ballard's course notes](https://544.f21.matthewrobertballard.com/notes/solving_linear_systems/intro/). Prof. Ballard's material thoroughly covers an introductory linear algebra course. Be warned: the material is for math majors and so rigorous/proof-based. Relevant material: Solving linear systems."
   ]
  },
  {
   "cell_type": "markdown",
   "id": "51e2622a",
   "metadata": {},
   "source": [
    "Let's start with coding a matrix-vector multiplication by hand. We'll place the matrix and vector inside numpy arrays."
   ]
  },
  {
   "cell_type": "code",
   "execution_count": 7,
   "id": "dc041393",
   "metadata": {},
   "outputs": [
    {
     "name": "stdout",
     "output_type": "stream",
     "text": [
      "[ 6. 15.  4.]\n"
     ]
    }
   ],
   "source": [
    "import numpy as np\n",
    "# Matrix A\n",
    "A = np.array([\n",
    "    [3, -4, 5],\n",
    "    [5, -3, 6],\n",
    "    [1, 2, -3]\n",
    "])\n",
    "n = A.shape[0]\n",
    "m = A.shape[1]\n",
    "# vector x\n",
    "x = np.array([3, 2, 1])\n",
    "\n",
    "# matrix product\n",
    "y = np.zeros((m))\n",
    "for i in range(n):\n",
    "    for j in range(m):\n",
    "        y[i] += A[i,j]*x[j]\n",
    "\n",
    "print(y)"
   ]
  },
  {
   "cell_type": "markdown",
   "id": "6bd6017a",
   "metadata": {},
   "source": [
    "You can check by hand that this is the correct answer. Luckily we don't have to code this every time we want to multiply a matrix and vector. The symbol `@` can be used for matrix multiplication of numpy arrays. `@` also works for matrix-matrix multiplication."
   ]
  },
  {
   "cell_type": "code",
   "execution_count": 13,
   "id": "6c3a6a51",
   "metadata": {},
   "outputs": [
    {
     "name": "stdout",
     "output_type": "stream",
     "text": [
      "y: [ 6 15  4]\n",
      "C: [[  2   3  28]\n",
      " [ 17  -1  26]\n",
      " [  8  -7 -12]]\n"
     ]
    }
   ],
   "source": [
    "y = A@x\n",
    "print('y:', y)\n",
    "# demonstrate matrix-matrix multiplication with @\n",
    "B = np.array([\n",
    "    [4, -2, 1],\n",
    "    [5, -1, -5],\n",
    "    [2, 1, 1]\n",
    "])\n",
    "C = A@B\n",
    "print('C:', C)"
   ]
  },
  {
   "cell_type": "markdown",
   "id": "bfafaf19",
   "metadata": {},
   "source": [
    "Let's work through an example that is actually useful. For a two-dimensional vector $v = (x, y)$, a rotation in the plane by angle $\\theta$ can be done by the rotation matrix $R(\\theta)$.\n",
    "$$ R(\\theta) = \\begin{bmatrix} \\cos(\\theta) & -\\sin(\\theta) \\\\ \\sin(\\theta) & \\cos(\\theta) \\end{bmatrix} $$"
   ]
  },
  {
   "cell_type": "code",
   "execution_count": 18,
   "id": "eb17abb4",
   "metadata": {},
   "outputs": [
    {
     "data": {
      "text/plain": [
       "<matplotlib.legend.Legend at 0x1ec4a0d1e10>"
      ]
     },
     "execution_count": 18,
     "metadata": {},
     "output_type": "execute_result"
    },
    {
     "data": {
      "image/png": "[encoded data removed]",
      "text/plain": [
       "<Figure size 300x300 with 1 Axes>"
      ]
     },
     "metadata": {},
     "output_type": "display_data"
    }
   ],
   "source": [
    "# experiment by changing these values.\n",
    "x = 1\n",
    "y = 0\n",
    "theta = np.pi/6\n",
    "\n",
    "Rtheta = np.array([\n",
    "    [np.cos(theta), -np.sin(theta)],\n",
    "    [np.sin(theta), np.cos(theta)]\n",
    "])\n",
    "v = np.array([x, y])\n",
    "\n",
    "w = Rtheta@v\n",
    "\n",
    "# plot\n",
    "import matplotlib.pyplot as plt\n",
    "\n",
    "plt.figure(figsize=(3,3))\n",
    "plt.plot([0, v[0]], [0, v[1]], label='v')\n",
    "plt.plot([0, w[0]], [0, w[1]], label='w')\n",
    "plt.xlim([-1, 1])\n",
    "plt.ylim([-1, 1])\n",
    "plt.legend()"
   ]
  },
  {
   "cell_type": "markdown",
   "id": "dfc1beed",
   "metadata": {},
   "source": [
    "Numpy also has the `linalg.inv()` function calculate matrix inverses. Let's use it to solve $Ax=b$."
   ]
  },
  {
   "cell_type": "code",
   "execution_count": 21,
   "id": "a2b46494",
   "metadata": {},
   "outputs": [
    {
     "name": "stdout",
     "output_type": "stream",
     "text": [
      "A^-1: [[ 0.10714286  0.07142857  0.32142857]\n",
      " [-0.75        0.5        -0.25      ]\n",
      " [-0.46428571  0.35714286 -0.39285714]]\n",
      "x: [ 1.71428571  1.         -0.42857143]\n"
     ]
    }
   ],
   "source": [
    "b = np.array([-1, 3, 5])\n",
    "Ainv = np.linalg.inv(A)\n",
    "print('A^-1:', Ainv)\n",
    "x = Ainv@b\n",
    "print('x:', x)"
   ]
  },
  {
   "cell_type": "markdown",
   "id": "454d078a",
   "metadata": {},
   "source": [
    "**Challenge Problems**\n",
    "1. Code a matrix-matrix multiplication. Use that, and the matrix-vector multiplication code, to shown an example for the identity\n",
    "$$ (AB)x=A(Bx) $$\n",
    "2. Intuitively, we should be able to undo a rotation by $\\theta$ with a rotation by $-\\theta$. Use the definition of matrix multiplication and some trigonometric identities, to show that $R(\\theta)^{-1}=R(-\\theta)$."
   ]
  }
 ],
 "metadata": {
  "kernelspec": {
   "display_name": "Python 3 (ipykernel)",
   "language": "python",
   "name": "python3"
  },
  "language_info": {
   "codemirror_mode": {
    "name": "ipython",
    "version": 3
   },
   "file_extension": ".py",
   "mimetype": "text/x-python",
   "name": "python",
   "nbconvert_exporter": "python",
   "pygments_lexer": "ipython3",
   "version": "3.10.12"
  }
 },
 "nbformat": 4,
 "nbformat_minor": 5
}
